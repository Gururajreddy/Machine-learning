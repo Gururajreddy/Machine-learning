{
  "nbformat": 4,
  "nbformat_minor": 0,
  "metadata": {
    "colab": {
      "provenance": [],
      "authorship_tag": "ABX9TyM/lXGZVwqb8ihJ7I4nrJVr",
      "include_colab_link": true
    },
    "kernelspec": {
      "name": "python3",
      "display_name": "Python 3"
    },
    "language_info": {
      "name": "python"
    }
  },
  "cells": [
    {
      "cell_type": "markdown",
      "metadata": {
        "id": "view-in-github",
        "colab_type": "text"
      },
      "source": [
        "<a href=\"https://colab.research.google.com/github/Gururajreddy/Pytorch-Tutorial/blob/master/trainig_in_numpy.ipynb\" target=\"_parent\"><img src=\"https://colab.research.google.com/assets/colab-badge.svg\" alt=\"Open In Colab\"/></a>"
      ]
    },
    {
      "cell_type": "code",
      "source": [
        "import numpy as np"
      ],
      "metadata": {
        "id": "yJnGjS6T3xXl"
      },
      "execution_count": 16,
      "outputs": []
    },
    {
      "cell_type": "code",
      "source": [
        "#1 DArray\n",
        "a=np.array([1,2,3,4])\n",
        "print(type(a))\n",
        "\n",
        "#2D Array\n",
        "b=np.array([[1,2,3,4],[5,6,1,2]])\n",
        "print(type(b))\n",
        "\n",
        "#3D Array\n",
        "c=np.array([[1,2],[3,4],[5,6],[6,8]])\n",
        "print(type(c))"
      ],
      "metadata": {
        "colab": {
          "base_uri": "https://localhost:8080/"
        },
        "id": "iK7RtsDVHCtL",
        "outputId": "989ce8db-7c27-4402-efc7-b0b8665f1372"
      },
      "execution_count": 24,
      "outputs": [
        {
          "output_type": "stream",
          "name": "stdout",
          "text": [
            "<class 'numpy.ndarray'>\n",
            "<class 'numpy.ndarray'>\n",
            "<class 'numpy.ndarray'>\n"
          ]
        }
      ]
    },
    {
      "cell_type": "code",
      "execution_count": 14,
      "metadata": {
        "colab": {
          "base_uri": "https://localhost:8080/"
        },
        "id": "HDJYC6jl3lis",
        "outputId": "ba677d5b-9759-41a4-e3da-33efbfa7fccb"
      },
      "outputs": [
        {
          "output_type": "stream",
          "name": "stdout",
          "text": [
            "11\n",
            "-1\n",
            "30\n",
            "5.0\n"
          ]
        }
      ],
      "source": [
        "from re import MULTILINE\n",
        "def add(a,b):\n",
        "  sum = a+b\n",
        "  print(sum)\n",
        "\n",
        "def sub(a,b):\n",
        "  sub = a-b\n",
        "  print(sub)\n",
        "\n",
        "def mul(a,b):\n",
        "  mul = a*b\n",
        "  print(mul)\n",
        "\n",
        "def div(a,b):\n",
        "  div = a/b\n",
        "  if(a/b == 0):\n",
        "    print(\"invalid\")\n",
        "  else:\n",
        "    print(div)\n",
        "\n",
        "add(5,6)\n",
        "sub(5,6)\n",
        "mul(5,6)\n",
        "div(5,1)"
      ]
    },
    {
      "cell_type": "code",
      "source": [
        "def sum(n):\n",
        "  n=int(input(\"enter the number\"))\n",
        "  sum=0\n",
        "  while(n>0):\n",
        "    sum+=n\n",
        "    n-=1\n",
        "    print(sum)\n",
        "\n",
        "    "
      ],
      "metadata": {
        "id": "LQxxRwdzQan3"
      },
      "execution_count": 63,
      "outputs": []
    },
    {
      "cell_type": "code",
      "source": [
        "#dtype\n",
        "np.array([1,2,3],dtype=float)"
      ],
      "metadata": {
        "colab": {
          "base_uri": "https://localhost:8080/"
        },
        "id": "gOZJQtS6HMVG",
        "outputId": "ec7d7ee8-20e0-44aa-8f6c-2e2dc298b8bd"
      },
      "execution_count": 53,
      "outputs": [
        {
          "output_type": "execute_result",
          "data": {
            "text/plain": [
              "array([1., 2., 3.])"
            ]
          },
          "metadata": {},
          "execution_count": 53
        }
      ]
    },
    {
      "cell_type": "code",
      "source": [
        "#np.arange\n",
        "np.arange(1,11,3)"
      ],
      "metadata": {
        "colab": {
          "base_uri": "https://localhost:8080/"
        },
        "id": "g7549Dl6IdeS",
        "outputId": "cb712003-e1ce-4f56-81f4-93123799581e"
      },
      "execution_count": 28,
      "outputs": [
        {
          "output_type": "execute_result",
          "data": {
            "text/plain": [
              "array([ 1,  4,  7, 10])"
            ]
          },
          "metadata": {},
          "execution_count": 28
        }
      ]
    },
    {
      "cell_type": "code",
      "source": [
        "# with reshape(rows, column)\n",
        "np.arange(1,11).reshape(2,5)\n"
      ],
      "metadata": {
        "colab": {
          "base_uri": "https://localhost:8080/"
        },
        "id": "PCYXjEghI2NJ",
        "outputId": "b67235b3-c772-4843-f2cd-671b1f16ea9b"
      },
      "execution_count": 31,
      "outputs": [
        {
          "output_type": "execute_result",
          "data": {
            "text/plain": [
              "array([[ 1,  2,  3,  4,  5],\n",
              "       [ 6,  7,  8,  9, 10]])"
            ]
          },
          "metadata": {},
          "execution_count": 31
        }
      ]
    },
    {
      "cell_type": "code",
      "source": [
        "#np.onces and np.zeros\n",
        "#have to provide tuple\n",
        "# why use onces and zeros ans or inistalazation values\n",
        "np.ones((3,4))\n",
        "np.zeros((3,4))\n",
        "np.random.random((3,4))\n"
      ],
      "metadata": {
        "colab": {
          "base_uri": "https://localhost:8080/"
        },
        "id": "JHtI6z6wJKSg",
        "outputId": "4257b340-78a3-4e6e-98bb-15376f62f053"
      },
      "execution_count": 34,
      "outputs": [
        {
          "output_type": "execute_result",
          "data": {
            "text/plain": [
              "array([[0.45291316, 0.82089038, 0.4226876 , 0.65781114],\n",
              "       [0.07798335, 0.61421175, 0.86397223, 0.40208599],\n",
              "       [0.71247522, 0.04417502, 0.71636136, 0.47957719]])"
            ]
          },
          "metadata": {},
          "execution_count": 34
        }
      ]
    },
    {
      "cell_type": "code",
      "source": [
        "#np.linspace\n",
        "# linearly separate the points genrate in the given range\n",
        "          #(low range,uper range,no: item to generate)\n",
        "np.linspace(-10,10,10)"
      ],
      "metadata": {
        "colab": {
          "base_uri": "https://localhost:8080/"
        },
        "id": "QB2pobsUJ9qn",
        "outputId": "1460fe2e-5dd8-485d-d477-ac7bcb308f18"
      },
      "execution_count": 37,
      "outputs": [
        {
          "output_type": "execute_result",
          "data": {
            "text/plain": [
              "array([-10.        ,  -7.77777778,  -5.55555556,  -3.33333333,\n",
              "        -1.11111111,   1.11111111,   3.33333333,   5.55555556,\n",
              "         7.77777778,  10.        ])"
            ]
          },
          "metadata": {},
          "execution_count": 37
        }
      ]
    },
    {
      "cell_type": "code",
      "source": [
        "#np.identity\n",
        "#in the identity matrix only diagonal is one and rest of them is zero\n",
        "np.identity(3)"
      ],
      "metadata": {
        "colab": {
          "base_uri": "https://localhost:8080/"
        },
        "id": "LMxEd-ICLEY7",
        "outputId": "6efbf642-ddc3-40fa-b8ba-664bd021ff78"
      },
      "execution_count": 39,
      "outputs": [
        {
          "output_type": "execute_result",
          "data": {
            "text/plain": [
              "array([[1., 0., 0.],\n",
              "       [0., 1., 0.],\n",
              "       [0., 0., 1.]])"
            ]
          },
          "metadata": {},
          "execution_count": 39
        }
      ]
    },
    {
      "cell_type": "markdown",
      "source": [
        "Array attributes"
      ],
      "metadata": {
        "id": "cERS5uNyX10H"
      }
    },
    {
      "cell_type": "code",
      "source": [
        "import numpy as np\n",
        "a1=np.arange(10)\n",
        "a2=np.arange(12,dtype=float).reshape(3,4)\n",
        "a3=np.arange(8).reshape(2,2,2)\n",
        "print(a1,a2,a3)"
      ],
      "metadata": {
        "colab": {
          "base_uri": "https://localhost:8080/"
        },
        "id": "81j8wClQQT44",
        "outputId": "963d9e1e-b02a-4c0b-aac6-39c6f236ffa8"
      },
      "execution_count": 15,
      "outputs": [
        {
          "output_type": "stream",
          "name": "stdout",
          "text": [
            "[0 1 2 3 4 5 6 7 8 9] [[ 0.  1.  2.  3.]\n",
            " [ 4.  5.  6.  7.]\n",
            " [ 8.  9. 10. 11.]] [[[0 1]\n",
            "  [2 3]]\n",
            "\n",
            " [[4 5]\n",
            "  [6 7]]]\n"
          ]
        }
      ]
    },
    {
      "cell_type": "code",
      "source": [
        "#ndim (number of dimention)\n",
        "a3.ndim"
      ],
      "metadata": {
        "colab": {
          "base_uri": "https://localhost:8080/"
        },
        "id": "CcRwCx1EYS9L",
        "outputId": "d879e2dc-5816-4480-fbf9-71cd68f031f1"
      },
      "execution_count": 18,
      "outputs": [
        {
          "output_type": "execute_result",
          "data": {
            "text/plain": [
              "3"
            ]
          },
          "metadata": {},
          "execution_count": 18
        }
      ]
    },
    {
      "cell_type": "code",
      "source": [
        "#shape , it will tell how many dimention is present\n",
        "a3.shape"
      ],
      "metadata": {
        "colab": {
          "base_uri": "https://localhost:8080/"
        },
        "id": "-A6WlZdgYngw",
        "outputId": "a9d3993b-f56c-4b31-c861-5506259b5430"
      },
      "execution_count": 22,
      "outputs": [
        {
          "output_type": "execute_result",
          "data": {
            "text/plain": [
              "(2, 2, 2)"
            ]
          },
          "metadata": {},
          "execution_count": 22
        }
      ]
    },
    {
      "cell_type": "code",
      "source": [
        "#size\n",
        "print(a3.size)"
      ],
      "metadata": {
        "colab": {
          "base_uri": "https://localhost:8080/"
        },
        "id": "rXYC2usmY0et",
        "outputId": "f8f0b9ea-677e-4e92-b3bf-6855dda983b6"
      },
      "execution_count": 24,
      "outputs": [
        {
          "output_type": "stream",
          "name": "stdout",
          "text": [
            "8\n"
          ]
        }
      ]
    },
    {
      "cell_type": "code",
      "source": [
        "# itemsize, it will tell you memory size\n",
        "a3.size"
      ],
      "metadata": {
        "colab": {
          "base_uri": "https://localhost:8080/"
        },
        "id": "dcUnoNXMZS41",
        "outputId": "44c41ebb-896b-4fdf-c22e-fc6163091eb6"
      },
      "execution_count": 25,
      "outputs": [
        {
          "output_type": "execute_result",
          "data": {
            "text/plain": [
              "8"
            ]
          },
          "metadata": {},
          "execution_count": 25
        }
      ]
    },
    {
      "cell_type": "markdown",
      "source": [
        "Changing Datatypes"
      ],
      "metadata": {
        "id": "St_6YicmaaOP"
      }
    },
    {
      "cell_type": "code",
      "source": [
        "#astype (we can reduce the memory by reducing size and can convert the datatypes\n",
        "a3.astype(np.int32)"
      ],
      "metadata": {
        "colab": {
          "base_uri": "https://localhost:8080/"
        },
        "id": "QAMGKnXQan1a",
        "outputId": "bb3a1d3d-04f7-441f-8caa-a322dc436d8a"
      },
      "execution_count": 33,
      "outputs": [
        {
          "output_type": "execute_result",
          "data": {
            "text/plain": [
              "array([[[0, 0, 1, 0],\n",
              "        [2, 0, 3, 0]],\n",
              "\n",
              "       [[4, 0, 5, 0],\n",
              "        [6, 0, 7, 0]]], dtype=int32)"
            ]
          },
          "metadata": {},
          "execution_count": 33
        }
      ]
    },
    {
      "cell_type": "markdown",
      "source": [
        "Array Operation"
      ],
      "metadata": {
        "id": "LDhz-SUCbkbd"
      }
    },
    {
      "cell_type": "code",
      "source": [
        "a1=np.arange(12).reshape(3,4)\n",
        "a2 = np.arange(12,24).reshape(3,4)"
      ],
      "metadata": {
        "id": "pm8NCUliawNE"
      },
      "execution_count": 34,
      "outputs": []
    },
    {
      "cell_type": "code",
      "source": [
        "a2"
      ],
      "metadata": {
        "colab": {
          "base_uri": "https://localhost:8080/"
        },
        "id": "hlNMdQkPbzAQ",
        "outputId": "cbd04c07-4099-4075-82e3-48f10e47373b"
      },
      "execution_count": 36,
      "outputs": [
        {
          "output_type": "execute_result",
          "data": {
            "text/plain": [
              "array([[12, 13, 14, 15],\n",
              "       [16, 17, 18, 19],\n",
              "       [20, 21, 22, 23]])"
            ]
          },
          "metadata": {},
          "execution_count": 36
        }
      ]
    },
    {
      "cell_type": "code",
      "source": [
        "#scalar operation\n",
        "# matrix mul with scalar operation\n",
        "a1**2"
      ],
      "metadata": {
        "colab": {
          "base_uri": "https://localhost:8080/"
        },
        "id": "iWKePRLlb007",
        "outputId": "f2774e9e-b0ee-456f-cb73-3c5ff0e8b666"
      },
      "execution_count": 38,
      "outputs": [
        {
          "output_type": "execute_result",
          "data": {
            "text/plain": [
              "array([[  0,   1,   4,   9],\n",
              "       [ 16,  25,  36,  49],\n",
              "       [ 64,  81, 100, 121]])"
            ]
          },
          "metadata": {},
          "execution_count": 38
        }
      ]
    },
    {
      "cell_type": "code",
      "source": [
        "#relation operatior\n",
        "a2>5,a2 == 15"
      ],
      "metadata": {
        "colab": {
          "base_uri": "https://localhost:8080/"
        },
        "id": "Nn8lS5oKcGjw",
        "outputId": "f7365481-3e72-4da7-827b-787675d23d4b"
      },
      "execution_count": 40,
      "outputs": [
        {
          "output_type": "execute_result",
          "data": {
            "text/plain": [
              "(array([[ True,  True,  True,  True],\n",
              "        [ True,  True,  True,  True],\n",
              "        [ True,  True,  True,  True]]), array([[False, False, False,  True],\n",
              "        [False, False, False, False],\n",
              "        [False, False, False, False]]))"
            ]
          },
          "metadata": {},
          "execution_count": 40
        }
      ]
    },
    {
      "cell_type": "code",
      "source": [
        "#vector operations\n",
        "a1+a2,a1*a2,a1**a2,a1/a2"
      ],
      "metadata": {
        "colab": {
          "base_uri": "https://localhost:8080/"
        },
        "id": "OsqGI5OicVvp",
        "outputId": "cba25258-3582-4699-a4de-f8703959ac93"
      },
      "execution_count": 42,
      "outputs": [
        {
          "output_type": "execute_result",
          "data": {
            "text/plain": [
              "(array([[12, 14, 16, 18],\n",
              "        [20, 22, 24, 26],\n",
              "        [28, 30, 32, 34]]), array([[  0,  13,  28,  45],\n",
              "        [ 64,  85, 108, 133],\n",
              "        [160, 189, 220, 253]]), array([[                   0,                    1,                16384,\n",
              "                     14348907],\n",
              "        [          4294967296,         762939453125,      101559956668416,\n",
              "            11398895185373143],\n",
              "        [ 1152921504606846976, -1261475310744950487,  1864712049423024128,\n",
              "          6839173302027254275]]), array([[0.        , 0.07692308, 0.14285714, 0.2       ],\n",
              "        [0.25      , 0.29411765, 0.33333333, 0.36842105],\n",
              "        [0.4       , 0.42857143, 0.45454545, 0.47826087]]))"
            ]
          },
          "metadata": {},
          "execution_count": 42
        }
      ]
    },
    {
      "cell_type": "code",
      "source": [],
      "metadata": {
        "id": "7rthY5tqcncf"
      },
      "execution_count": null,
      "outputs": []
    }
  ]
}